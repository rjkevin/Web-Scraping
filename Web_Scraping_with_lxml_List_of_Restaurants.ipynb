{
  "nbformat": 4,
  "nbformat_minor": 0,
  "metadata": {
    "colab": {
      "name": "Web Scraping with lxml  - List of Restaurants",
      "provenance": [],
      "collapsed_sections": [],
      "authorship_tag": "ABX9TyMP2kAOX2+9LWb8hciH60U7",
      "include_colab_link": true
    },
    "kernelspec": {
      "name": "python3",
      "display_name": "Python 3"
    },
    "language_info": {
      "name": "python"
    }
  },
  "cells": [
    {
      "cell_type": "markdown",
      "metadata": {
        "id": "view-in-github",
        "colab_type": "text"
      },
      "source": [
        "<a href=\"https://colab.research.google.com/github/rjkevin/Web-Scraping/blob/main/Web_Scraping_with_lxml_List_of_Restaurants.ipynb\" target=\"_parent\"><img src=\"https://colab.research.google.com/assets/colab-badge.svg\" alt=\"Open In Colab\"/></a>"
      ]
    },
    {
      "cell_type": "markdown",
      "metadata": {
        "id": "Hf1ElidFNWtC"
      },
      "source": [
        "# Basic Introduction to Web Scraping\n",
        "- In the abscences of an API, web scraping can be a useful tool to extract data from a site. \n",
        "- Web scraping can be done using libraries such as BeautifulSoup, Scrapy, Selenium and lxml. Refer [here](https://www.analyticsvidhya.com/blog/2020/04/5-popular-python-libraries-web-scraping/) for pros and cons for each libraries. \n",
        "* Why lxml? - Fast and suitable to scrape large datasets, avoid falling for the honeypot trap which may feed user IP and block scraper\n",
        "* Not all websites are scrapable. Check using /robots.txt after the url\n",
        "* Challenges:Login requirement, complicated web structure, Honeypot trap, dynamic webpages, CAPTCHA etc."
      ]
    },
    {
      "cell_type": "markdown",
      "metadata": {
        "id": "MRokD_qE121K"
      },
      "source": [
        "## Request Module\n",
        "Client Server Protocol \n",
        "* Sends a HTTP request to the server to get info on the URL provided.<br> Server responses back and provides relevant data to the user browser (client)\n",
        "* HTTP Methods - get () used to request data from the server\n",
        "\n",
        "![Untitled design (65).png](data:image/png;base64,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)"
      ]
    },
    {
      "cell_type": "code",
      "metadata": {
        "id": "Xyb2UW4xgB9_",
        "colab": {
          "base_uri": "https://localhost:8080/"
        },
        "outputId": "1f2020b3-598e-4a82-a75d-69c28a66f312"
      },
      "source": [
        "import requests # sends http/1.1 request \n",
        "response = requests.get('https://www.w3schools.com/python/module_requests.asp') #requests.get() is a HTTP method that request data for a specific site\n",
        "\n",
        "response # status code 200 = successful while 404 means otherwise"
      ],
      "execution_count": 2,
      "outputs": [
        {
          "output_type": "execute_result",
          "data": {
            "text/plain": [
              "<Response [200]>"
            ]
          },
          "metadata": {
            "tags": []
          },
          "execution_count": 2
        }
      ]
    },
    {
      "cell_type": "markdown",
      "metadata": {
        "id": "Wb29SGuDOFem"
      },
      "source": [
        "Additional readings:\n",
        "\n",
        "*   https://www.edureka.co/blog/python-requests-tutorial/\n",
        "*   https://www.geeksforgeeks.org/python-requests-tutorial/\n",
        "* https://docs.python-requests.org/en/master/user/quickstart/\n",
        "* https://www.w3schools.com/tags/ref_httpmethods.asp\n",
        "* https://realpython.com/python-requests/#getting-started-with-requests\n",
        "\n"
      ]
    },
    {
      "cell_type": "markdown",
      "metadata": {
        "id": "8RQ9QcFq2G5g"
      },
      "source": [
        "## lxml library\n",
        " \n",
        "\n",
        "*  Imported to process HTML \n",
        "*   Parses html from a string. In simpler words, parsing refers to making data understable for further processing.\n",
        "* It then creates a HTML document tree which enables easy scraping of data using Xpath or CSS selectors\n",
        "\n",
        "\n",
        "![tree.gif](data:image/gif;base64,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) <br>\n",
        "HTML Document Tree (*Source: http://web.simmons.edu/~grabiner/comm244/weekfour/document-tree.html*)\n"
      ]
    },
    {
      "cell_type": "code",
      "metadata": {
        "colab": {
          "base_uri": "https://localhost:8080/"
        },
        "id": "ZU0J1S173NwC",
        "outputId": "b357e8ad-f2bb-44e5-956c-5859a73e51a6"
      },
      "source": [
        "from lxml import html\n",
        "element_str = '<p>Hello Darkness my old friend</p>'\n",
        "\n",
        "tree = html.fromstring(element_str) # converts the string to HTML\n",
        "\n",
        "y = tree.xpath('//p/text()') \n",
        "# xpath locates the element <p> in HTML doc tree.\n",
        "# text() extracts the text which is sandwich between the opening <p> and closing </p> tags\n",
        "\n",
        "print(type(tree)) # output shows tree is a html element\n",
        "print(y) # text is stored in a list\n",
        "\n",
        "# Basic xpath syntax\n",
        "# xpath expression in this examples uses predicates. Used to extract specific nodes or node values\n",
        "# // double forward slashes retrieves ALL p elements in the entire HTML tree document\n",
        "# / single forward slash retrieves immediate child tags or nodes \n"
      ],
      "execution_count": 1,
      "outputs": [
        {
          "output_type": "stream",
          "text": [
            "<class 'lxml.html.HtmlElement'>\n",
            "['Hello Darkness my old friend']\n"
          ],
          "name": "stdout"
        }
      ]
    },
    {
      "cell_type": "markdown",
      "metadata": {
        "id": "4cuSNcMMy0jz"
      },
      "source": [
        "Additional readings:\n",
        "\n",
        "1.   https://www.educative.io/courses/mastering-xpath-for-selenium/xVyA1VnqlBz\n",
        "2. https://www.w3schools.com/xml/xml_xpath.asp\n",
        "3. https://www.w3schools.com/xml/xpath_syntax.asp\n",
        "4. https://yasoob.me/2018/06/20/an-intro-to-web-scraping-with-lxml-and-python/\n",
        "\n"
      ]
    },
    {
      "cell_type": "markdown",
      "metadata": {
        "id": "RuylJAXD_6NX"
      },
      "source": [
        "## Case Study:\n",
        "Your Country manager wants you to compile a list of outbound leads of restaurants from hotels to reach out. "
      ]
    },
    {
      "cell_type": "code",
      "metadata": {
        "colab": {
          "base_uri": "https://localhost:8080/",
          "height": 545
        },
        "id": "s0IajWHPgGyZ",
        "outputId": "4a0bb5c1-a404-4e79-c885-1bf9443d7390"
      },
      "source": [
        "import requests\n",
        "from lxml import html\n",
        "\n",
        "webpage = requests.get('https://marriottbonvoyasia.com/R+B/local-discount/BringMarriottHome')\n",
        "tree = html.fromstring(webpage.content) # parse html from a string / taking the data store in the string and converting it into a html document tree\n",
        "\n",
        "\n",
        "#use basic xpath expression to extract certain elements or attributes \n",
        "restaurant = tree.xpath('//p[@class=\"restaurantname\"]/text()') # selects all the p element with the attribute class that has a value \"restaurantname\"\n",
        "hotel = tree.xpath('//span[@class=\"hotelname\"]/text()') # selects all the span element with the class value equals to \"hotelname\"\n",
        "contact = tree.xpath('//div[@class]//@data-ctaurl1') # // double forward slashes tells lxml to retrieve ALL the values that matches our descriptions in the document\n",
        "menu = tree.xpath('//div[@class]//@data-menu')\n",
        "\n",
        "#Use list comprehension to remove white spaces and new lines\n",
        "hotels = [x.strip('\\n ')for x in hotel]\n",
        "hotels \n",
        "\n",
        "restaurants = [r.strip('\\n ')for r in restaurant]\n",
        "restaurants\n",
        "\n",
        "contacts = [c.strip('\\n ') for c in contact]\n",
        "\n",
        "menus = [m.strip('\\n ') for m in menu]\n",
        "\n",
        "n_menu = df['Menus'].replace({'':'unavailable'})\n",
        "\n",
        "#important data into pandas dataframe from lists \n",
        "import pandas as pd\n",
        "df = pd.DataFrame(list(zip(restaurants,hotels,contacts,n_menu)),columns=['Restaurants','Hotels','Existing_channels','Menus']) #combining 2 lists into a dataframe using zip \n",
        "\n",
        "df"
      ],
      "execution_count": 39,
      "outputs": [
        {
          "output_type": "execute_result",
          "data": {
            "text/html": [
              "<div>\n",
              "<style scoped>\n",
              "    .dataframe tbody tr th:only-of-type {\n",
              "        vertical-align: middle;\n",
              "    }\n",
              "\n",
              "    .dataframe tbody tr th {\n",
              "        vertical-align: top;\n",
              "    }\n",
              "\n",
              "    .dataframe thead th {\n",
              "        text-align: right;\n",
              "    }\n",
              "</style>\n",
              "<table border=\"1\" class=\"dataframe\">\n",
              "  <thead>\n",
              "    <tr style=\"text-align: right;\">\n",
              "      <th></th>\n",
              "      <th>Restaurants</th>\n",
              "      <th>Hotels</th>\n",
              "      <th>Existing_channels</th>\n",
              "      <th>Menus</th>\n",
              "    </tr>\n",
              "  </thead>\n",
              "  <tbody>\n",
              "    <tr>\n",
              "      <th>0</th>\n",
              "      <td>The Drawing Room, The Brasserie, Astor Bar</td>\n",
              "      <td>The St. Regis Kuala Lumpur</td>\n",
              "      <td>http://thestregiskl.beepit.com/</td>\n",
              "      <td>https://cdn-prod.marriottbonvoyasia.com/prod.m...</td>\n",
              "    </tr>\n",
              "    <tr>\n",
              "      <th>1</th>\n",
              "      <td>Li Yen</td>\n",
              "      <td>The Ritz-Carlton, Kuala Lumpur</td>\n",
              "      <td>https://wa.me/c/60186468033</td>\n",
              "      <td>unavailable</td>\n",
              "    </tr>\n",
              "    <tr>\n",
              "      <th>2</th>\n",
              "      <td>Shanghai</td>\n",
              "      <td>JW Marriott Hotel Kuala Lumpur</td>\n",
              "      <td>https://wa.me/c/60185918537</td>\n",
              "      <td>unavailable</td>\n",
              "    </tr>\n",
              "    <tr>\n",
              "      <th>3</th>\n",
              "      <td>The Living Room</td>\n",
              "      <td>The Westin Kuala Lumpur</td>\n",
              "      <td>https://www.tableapp.com/delivery/the-living-r...</td>\n",
              "      <td>https://cdn-prod.marriottbonvoyasia.com/prod.m...</td>\n",
              "    </tr>\n",
              "    <tr>\n",
              "      <th>4</th>\n",
              "      <td>Latest Recipe</td>\n",
              "      <td>Le Méridien Kuala Lumpur</td>\n",
              "      <td>https://lemeridien.oddle.me/en_MY/</td>\n",
              "      <td>unavailable</td>\n",
              "    </tr>\n",
              "    <tr>\n",
              "      <th>5</th>\n",
              "      <td>Nook</td>\n",
              "      <td>Aloft Kuala Lumpur Sentral</td>\n",
              "      <td>https://linktr.ee/aloftkls</td>\n",
              "      <td>unavailable</td>\n",
              "    </tr>\n",
              "    <tr>\n",
              "      <th>6</th>\n",
              "      <td>Quan's Kitchen</td>\n",
              "      <td>Four Points by Sheraton Kuala Lumpur, Chinatown</td>\n",
              "      <td>https://wa.me/60125073327</td>\n",
              "      <td>https://cdn-prod.marriottbonvoyasia.com/prod.m...</td>\n",
              "    </tr>\n",
              "    <tr>\n",
              "      <th>7</th>\n",
              "      <td>TRACE Restaurant &amp; Bar</td>\n",
              "      <td>Element Kuala Lumpur</td>\n",
              "      <td>https://wa.me/60102670338</td>\n",
              "      <td>https://cdn-prod.marriottbonvoyasia.com/prod.m...</td>\n",
              "    </tr>\n",
              "    <tr>\n",
              "      <th>8</th>\n",
              "      <td>Colonial Café</td>\n",
              "      <td>The Majestic Hotel Kuala Lumpur, Autograph Col...</td>\n",
              "      <td>http://www.wasap.my/60146471060</td>\n",
              "      <td>unavailable</td>\n",
              "    </tr>\n",
              "    <tr>\n",
              "      <th>9</th>\n",
              "      <td>Latest Recipe</td>\n",
              "      <td>Le Méridien Putrajaya</td>\n",
              "      <td>https://bungkusit.app.link/uTZKt9pw4gb</td>\n",
              "      <td>https://cdn-prod.marriottbonvoyasia.com/prod.m...</td>\n",
              "    </tr>\n",
              "    <tr>\n",
              "      <th>10</th>\n",
              "      <td>The Eatery</td>\n",
              "      <td>Four Points by Sheraton Puchong</td>\n",
              "      <td>https://bungkusit.app.link/xCjAaEnw4gb</td>\n",
              "      <td>https://cdn-prod.marriottbonvoyasia.com/prod.m...</td>\n",
              "    </tr>\n",
              "    <tr>\n",
              "      <th>11</th>\n",
              "      <td>Feast</td>\n",
              "      <td>Sheraton Petaling Jaya Hotel</td>\n",
              "      <td>https://wa.me/60172286098</td>\n",
              "      <td>https://cdn-prod.marriottbonvoyasia.com/prod.m...</td>\n",
              "    </tr>\n",
              "    <tr>\n",
              "      <th>12</th>\n",
              "      <td>Café BLD</td>\n",
              "      <td>Renaissance Johor Bahru Hotel</td>\n",
              "      <td>https://bit.ly/CafeBLDTakeaway</td>\n",
              "      <td>https://cdn-prod.marriottbonvoyasia.com/prod.m...</td>\n",
              "    </tr>\n",
              "    <tr>\n",
              "      <th>13</th>\n",
              "      <td>Seasonal Tastes</td>\n",
              "      <td>The Westin Desaru Coast Resort</td>\n",
              "      <td>https://marriottbonvoyasia.com/restaurants-bar...</td>\n",
              "      <td>unavailable</td>\n",
              "    </tr>\n",
              "    <tr>\n",
              "      <th>14</th>\n",
              "      <td>Nook</td>\n",
              "      <td>Aloft Langkawi Pantai Tengah</td>\n",
              "      <td>http://wa.link/46ezjc</td>\n",
              "      <td>unavailable</td>\n",
              "    </tr>\n",
              "    <tr>\n",
              "      <th>15</th>\n",
              "      <td></td>\n",
              "      <td>Kota Kinabalu Marriott Hotel</td>\n",
              "      <td>https://wa.me/60169691393</td>\n",
              "      <td>https://cdn-prod.marriottbonvoyasia.com/prod.m...</td>\n",
              "    </tr>\n",
              "  </tbody>\n",
              "</table>\n",
              "</div>"
            ],
            "text/plain": [
              "                                   Restaurants  ...                                              Menus\n",
              "0   The Drawing Room, The Brasserie, Astor Bar  ...  https://cdn-prod.marriottbonvoyasia.com/prod.m...\n",
              "1                                       Li Yen  ...                                        unavailable\n",
              "2                                     Shanghai  ...                                        unavailable\n",
              "3                              The Living Room  ...  https://cdn-prod.marriottbonvoyasia.com/prod.m...\n",
              "4                                Latest Recipe  ...                                        unavailable\n",
              "5                                         Nook  ...                                        unavailable\n",
              "6                               Quan's Kitchen  ...  https://cdn-prod.marriottbonvoyasia.com/prod.m...\n",
              "7                       TRACE Restaurant & Bar  ...  https://cdn-prod.marriottbonvoyasia.com/prod.m...\n",
              "8                                Colonial Café  ...                                        unavailable\n",
              "9                                Latest Recipe  ...  https://cdn-prod.marriottbonvoyasia.com/prod.m...\n",
              "10                                  The Eatery  ...  https://cdn-prod.marriottbonvoyasia.com/prod.m...\n",
              "11                                       Feast  ...  https://cdn-prod.marriottbonvoyasia.com/prod.m...\n",
              "12                                    Café BLD  ...  https://cdn-prod.marriottbonvoyasia.com/prod.m...\n",
              "13                             Seasonal Tastes  ...                                        unavailable\n",
              "14                                        Nook  ...                                        unavailable\n",
              "15                                              ...  https://cdn-prod.marriottbonvoyasia.com/prod.m...\n",
              "\n",
              "[16 rows x 4 columns]"
            ]
          },
          "metadata": {
            "tags": []
          },
          "execution_count": 39
        }
      ]
    },
    {
      "cell_type": "code",
      "metadata": {
        "id": "k7mMhrT-WlAO"
      },
      "source": [
        "# Savings dataframe into csv file\n",
        "df.to_csv('hotel_restaurants.csv') \n"
      ],
      "execution_count": null,
      "outputs": []
    }
  ]
}